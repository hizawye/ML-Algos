{
 "cells": [
  {
   "cell_type": "code",
   "execution_count": 4,
   "id": "eb26dcf0-1178-4768-b860-f2b03d1bcbf2",
   "metadata": {},
   "outputs": [],
   "source": [
    "import numpy as np"
   ]
  },
  {
   "cell_type": "code",
   "execution_count": 19,
   "id": "863e6c55-a9f2-46f9-a9ee-79ec0d9827da",
   "metadata": {},
   "outputs": [],
   "source": [
    "\n",
    "class AladineGD:\n",
    "    \"\"\"\n",
    "    ADAptive LInear NEuron classifier\n",
    "\n",
    "    Parameters\n",
    "    ----------\n",
    "    eta : float\n",
    "        Learning rate\n",
    "    epochs : int\n",
    "        Passes over the training data\n",
    "    random_state : int\n",
    "        Random seed for reproducible weight initialization\n",
    "\n",
    "    Attributes\n",
    "    ----------\n",
    "    weights : ndarray\n",
    "        Model weights after training\n",
    "    bias : float\n",
    "        Bias term after training\n",
    "    losses : list\n",
    "        Mean squared error for each epoch\n",
    "    \"\"\"\n",
    "\n",
    "    def __init__(self, eta=0.01, epochs=10, random_state=1):\n",
    "        self.eta = eta\n",
    "        self.epochs = epochs\n",
    "        self.random_state = random_state\n",
    "\n",
    "    def fit(self, X, y):\n",
    "        rgen = np.random.RandomState(self.random_state)\n",
    "        self.weights = rgen.normal(loc=0.0, scale=0.01, size=X.shape[1])\n",
    "        self.bias = 0.0\n",
    "        self.losses = []\n",
    "\n",
    "        for _ in range(self.epochs):\n",
    "            net_input = self.net_input(X)\n",
    "            output = self.activation(net_input)\n",
    "            errors = y - output\n",
    "            self.weights += self.eta * 2.0 * X.T.dot(errors) / X.shape[0]\n",
    "            self.bias += self.eta * 2.0 * errors.mean()\n",
    "            loss = (errors ** 2).mean()\n",
    "            self.losses.append(loss)\n",
    "        return self\n",
    "\n",
    "    def net_input(self, X):\n",
    "        return np.dot(X, self.weights) + self.bias\n",
    "\n",
    "    def activation(self, X):\n",
    "        return X\n",
    "\n",
    "    def predict(self, X):\n",
    "        return np.where(self.activation(self.net_input(X)) >= 0.5, 1, 0)\n"
   ]
  },
  {
   "cell_type": "code",
   "execution_count": 22,
   "id": "87444eba-55c8-4f03-a086-88b9584f1599",
   "metadata": {},
   "outputs": [
    {
     "name": "stdout",
     "output_type": "stream",
     "text": [
      "0.08663901960953639\n"
     ]
    }
   ],
   "source": [
    "a = AladineGD()\n",
    "\n",
    "X = np.array([[1,0],[0,1]])\n",
    "y = np.array([0,1])\n",
    "a.fit(X,y)\n",
    "print(a.bias)\n"
   ]
  },
  {
   "cell_type": "code",
   "execution_count": null,
   "id": "90e716d0-4cc1-4439-b08a-14bcf7593763",
   "metadata": {},
   "outputs": [],
   "source": []
  }
 ],
 "metadata": {
  "kernelspec": {
   "display_name": "Python 3 (ipykernel)",
   "language": "python",
   "name": "python3"
  },
  "language_info": {
   "codemirror_mode": {
    "name": "ipython",
    "version": 3
   },
   "file_extension": ".py",
   "mimetype": "text/x-python",
   "name": "python",
   "nbconvert_exporter": "python",
   "pygments_lexer": "ipython3",
   "version": "3.10.18"
  }
 },
 "nbformat": 4,
 "nbformat_minor": 5
}
